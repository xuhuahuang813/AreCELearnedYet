{
 "cells": [
  {
   "cell_type": "code",
   "execution_count": 1,
   "metadata": {},
   "outputs": [],
   "source": [
    "import pickle\n",
    "from lecarb.constants import PKL_PROTO\n",
    "workloadSize = 1000\n",
    "encode_path_list = [\n",
    "    \"data/census13/lstm/original_lstm-1k0311_200_123.pkl\",\n",
    "    \"data/census13/lstm/original+original_ind_0.1_lstm-1k-IND0.1_200_123.pkl\"\n",
    "]\n",
    "file_num = len(encode_path_list)"
   ]
  },
  {
   "cell_type": "code",
   "execution_count": 2,
   "metadata": {},
   "outputs": [],
   "source": [
    "encode_pkl_list = []\n",
    "for _ in encode_path_list:\n",
    "    with open(_, 'rb') as file:\n",
    "        data = pickle.load(file)\n",
    "        encode_pkl_list.append(data)"
   ]
  },
  {
   "cell_type": "code",
   "execution_count": 13,
   "metadata": {},
   "outputs": [
    {
     "name": "stdout",
     "output_type": "stream",
     "text": [
      "train 50000 1000 50000 1000 original_lstm-1k0311_200_123.pkl\n",
      "valid 5000 100 5000 100 original_lstm-1k0311_200_123.pkl\n",
      "test 5000 100 5000 100 original_lstm-1k0311_200_123.pkl\n",
      "train 50000 1000 50000 1000 original+original_ind_0.1_lstm-1k-IND0.1_200_123.pkl\n",
      "valid 5000 100 5000 100 original+original_ind_0.1_lstm-1k-IND0.1_200_123.pkl\n",
      "test 5000 100 5000 100 original+original_ind_0.1_lstm-1k-IND0.1_200_123.pkl\n"
     ]
    }
   ],
   "source": [
    "# X = [] #编码 [card/rowCount, lowerBound, upperBound, ...]\n",
    "# y = [] #10000维向量\n",
    "# card = [] # card\n",
    "# colList = [] # 存储每50个query是对应的哪些列\n",
    "for _ in range(len(encode_pkl_list)):\n",
    "    for t_i in ['train', 'valid', 'test']:\n",
    "        print(t_i, len(encode_pkl_list[_][t_i][0]), len(encode_pkl_list[_][t_i][1]), len(encode_pkl_list[_][t_i][2]), len(encode_pkl_list[_][t_i][3]), encode_path_list[_].split(\"/\")[-1])\n",
    "    # break"
   ]
  },
  {
   "cell_type": "code",
   "execution_count": 20,
   "metadata": {},
   "outputs": [],
   "source": [
    "mergeEncode = {\"train\":[[], [], [], []], \"valid\":[[], [], [], []], \"test\":[[], [], [], []]}\n",
    "for e_i in range(file_num):\n",
    "    for t_i in ['train', 'valid', 'test']:\n",
    "        for m_i in range(4):\n",
    "            if t_i == 'train':\n",
    "                if  m_i == 0 or m_i == 2:\n",
    "                    mergeEncode[t_i][m_i].extend(encode_pkl_list[e_i][t_i][m_i][:int(workloadSize * 50 / file_num)])\n",
    "                else:\n",
    "                    mergeEncode[t_i][m_i].extend(encode_pkl_list[e_i][t_i][m_i][:int(workloadSize / file_num)])\n",
    "            else:\n",
    "                if  m_i == 0 or m_i == 2:\n",
    "                    mergeEncode[t_i][m_i].extend(encode_pkl_list[e_i][t_i][m_i][:int(workloadSize * 50 / 10 / file_num)])\n",
    "                else:\n",
    "                    mergeEncode[t_i][m_i].extend(encode_pkl_list[e_i][t_i][m_i][:int(workloadSize / 10 / file_num)])"
   ]
  },
  {
   "cell_type": "code",
   "execution_count": 21,
   "metadata": {},
   "outputs": [
    {
     "name": "stdout",
     "output_type": "stream",
     "text": [
      "train 50000\n",
      "train 1000\n",
      "train 50000\n",
      "train 1000\n",
      "valid 5000\n",
      "valid 100\n",
      "valid 5000\n",
      "valid 100\n",
      "test 5000\n",
      "test 100\n",
      "test 5000\n",
      "test 100\n"
     ]
    }
   ],
   "source": [
    "for t_i in ['train', 'valid', 'test']:\n",
    "    for m_i in range(4):\n",
    "        print(t_i, len(mergeEncode[t_i][m_i]))"
   ]
  },
  {
   "cell_type": "code",
   "execution_count": null,
   "metadata": {},
   "outputs": [],
   "source": [
    "mergeEncode_path = 'data/census13/lstm/original_merge_200_123.pkl'\n",
    "with open(mergeEncode_path, 'wb') as f: \n",
    "    pickle.dump(mergeEncode, f, protocol=PKL_PROTO)"
   ]
  }
 ],
 "metadata": {
  "kernelspec": {
   "display_name": "AreCELearnedYet",
   "language": "python",
   "name": "python3"
  },
  "language_info": {
   "codemirror_mode": {
    "name": "ipython",
    "version": 3
   },
   "file_extension": ".py",
   "mimetype": "text/x-python",
   "name": "python",
   "nbconvert_exporter": "python",
   "pygments_lexer": "ipython3",
   "version": "3.8.12"
  }
 },
 "nbformat": 4,
 "nbformat_minor": 2
}
