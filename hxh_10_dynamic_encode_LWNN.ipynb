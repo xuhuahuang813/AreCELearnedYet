{
 "cells": [
  {
   "cell_type": "code",
   "execution_count": 1,
   "metadata": {},
   "outputs": [],
   "source": [
    "import pickle\n",
    "from lecarb.constants import PKL_PROTO\n",
    "workloadSize = 10000\n",
    "encode_path_list = [\n",
    "    \"data/census13/lw/original_lstm-1w_200_123.pkl\",\n",
    "    \"data/census13/lw/original+original_ind_0.1_lstm-2k-IND0.1_200_123.pkl\",\n",
    "    \"data/census13/lw/original+original_ind_0.2_lstm-2k-IND0.2_200_123.pkl\",\n",
    "    \"data/census13/lw/original+original_ind_0.3_lstm-2k-IND0.3_200_123.pkl\",\n",
    "    \"data/census13/lw/original+original_ind_0.4_lstm-2k-IND0.4_200_123.pkl\",\n",
    "    \"data/census13/lw/original+original_ind_0.5_lstm-2k-IND0.5_200_123.pkl\",\n",
    "]\n",
    "file_num = len(encode_path_list)"
   ]
  },
  {
   "cell_type": "code",
   "execution_count": 2,
   "metadata": {},
   "outputs": [],
   "source": [
    "encode_pkl_list = []\n",
    "for _ in encode_path_list:\n",
    "    with open(_, 'rb') as file:\n",
    "        data = pickle.load(file)\n",
    "        encode_pkl_list.append(data)"
   ]
  },
  {
   "cell_type": "code",
   "execution_count": 3,
   "metadata": {},
   "outputs": [
    {
     "name": "stdout",
     "output_type": "stream",
     "text": [
      "0 train 500000 500000 500000\n",
      "0 valid 50000 50000 50000\n",
      "0 test 50000 50000 50000\n",
      "1 train 100000 100000 100000\n",
      "1 valid 10000 10000 10000\n",
      "1 test 10000 10000 10000\n",
      "2 train 100000 100000 100000\n",
      "2 valid 10000 10000 10000\n",
      "2 test 10000 10000 10000\n",
      "3 train 100000 100000 100000\n",
      "3 valid 10000 10000 10000\n",
      "3 test 10000 10000 10000\n",
      "4 train 100000 100000 100000\n",
      "4 valid 10000 10000 10000\n",
      "4 test 10000 10000 10000\n",
      "5 train 100000 100000 100000\n",
      "5 valid 10000 10000 10000\n",
      "5 test 10000 10000 10000\n"
     ]
    }
   ],
   "source": [
    "# X = [] #编码 [card/rowCount, lowerBound, upperBound, ...]\n",
    "# y = [] #10000维向量\n",
    "# card = [] # card\n",
    "# colList = [] # 存储每50个query是对应的哪些列\n",
    "for _ in range(len(encode_pkl_list)):\n",
    "    for t_i in ['train', 'valid', 'test']:\n",
    "        # print(len(encode_pkl_list[_][t_i]))\n",
    "        print(_, t_i, len(encode_pkl_list[_][t_i][0]), len(encode_pkl_list[_][t_i][1]), len(encode_pkl_list[_][t_i][2]))\n",
    "    # break"
   ]
  },
  {
   "cell_type": "code",
   "execution_count": 8,
   "metadata": {},
   "outputs": [],
   "source": [
    "mergeEncode = {\"train\":[[], [], []], \"valid\":[[], [], []], \"test\":[[], [], []]}\n",
    "\n",
    "for m_i in range(3):\n",
    "    mergeEncode[\"train\"][m_i].extend(encode_pkl_list[0]['train'][m_i][:int(workloadSize * 50)])\n",
    "    # mergeEncode[\"valid\"][m_i].extend(encode_pkl_list[0]['valid'][m_i][:int(workloadSize * 50 / 10)])\n",
    "for e_i in range(1, file_num):\n",
    "    for t_i in ['valid', 'test']:\n",
    "        for m_i in range(3):\n",
    "            mergeEncode[t_i][m_i].extend(encode_pkl_list[e_i][t_i][m_i][:int(workloadSize * 50 / 10 / (file_num - 1))])\n",
    "                "
   ]
  },
  {
   "cell_type": "code",
   "execution_count": 9,
   "metadata": {},
   "outputs": [
    {
     "name": "stdout",
     "output_type": "stream",
     "text": [
      "train 500000\n",
      "train 500000\n",
      "train 500000\n",
      "valid 50000\n",
      "valid 50000\n",
      "valid 50000\n",
      "test 50000\n",
      "test 50000\n",
      "test 50000\n"
     ]
    }
   ],
   "source": [
    "for t_i in ['train', 'valid', 'test']:\n",
    "    for m_i in range(3):\n",
    "        print(t_i, len(mergeEncode[t_i][m_i]))"
   ]
  },
  {
   "cell_type": "code",
   "execution_count": 19,
   "metadata": {},
   "outputs": [],
   "source": [
    "mergeEncode_path = 'data/census13/lw/original_merge1w_200_123.pkl'\n",
    "with open(mergeEncode_path, 'wb') as f: \n",
    "    pickle.dump(mergeEncode, f, protocol=PKL_PROTO)"
   ]
  }
 ],
 "metadata": {
  "kernelspec": {
   "display_name": "AreCELearnedYet",
   "language": "python",
   "name": "python3"
  },
  "language_info": {
   "codemirror_mode": {
    "name": "ipython",
    "version": 3
   },
   "file_extension": ".py",
   "mimetype": "text/x-python",
   "name": "python",
   "nbconvert_exporter": "python",
   "pygments_lexer": "ipython3",
   "version": "3.8.12"
  }
 },
 "nbformat": 4,
 "nbformat_minor": 2
}
