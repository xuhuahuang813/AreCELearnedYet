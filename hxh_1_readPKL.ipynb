{
 "cells": [
  {
   "cell_type": "code",
   "execution_count": 8,
   "metadata": {},
   "outputs": [],
   "source": [
    "import pickle\n",
    "\n",
    "# 指定.pkl文件的路径\n",
    "# file_path = 'data/census13/original.pkl'\n",
    "# file_path = 'data/census13/workload/base.pkl'\n",
    "# file_path = 'data/census13/workload/base-original-label.pkl'\n",
    "file_path = 'data/census13/original.table.pkl'\n",
    "# 打开文件并读取数据\n",
    "with open(file_path, 'rb') as file:\n",
    "    data = pickle.load(file)"
   ]
  },
  {
   "cell_type": "code",
   "execution_count": 14,
   "metadata": {},
   "outputs": [
    {
     "data": {
      "text/plain": [
       "['dataset',\n",
       " 'version',\n",
       " 'name',\n",
       " 'data',\n",
       " 'data_size_mb',\n",
       " 'row_num',\n",
       " 'col_num',\n",
       " 'columns']"
      ]
     },
     "execution_count": 14,
     "metadata": {},
     "output_type": "execute_result"
    }
   ],
   "source": [
    "members = [attr for attr in vars(data) if not callable(getattr(data, attr))]\n",
    "members"
   ]
  },
  {
   "cell_type": "code",
   "execution_count": 13,
   "metadata": {},
   "outputs": [
    {
     "data": {
      "text/plain": [
       "{'dataset': 'census13',\n",
       " 'version': 'original',\n",
       " 'name': 'census13_original',\n",
       " 'data':        age         workclass  education  education_num      marital_status  \\\n",
       " 0       39         State-gov  Bachelors             13       Never-married   \n",
       " 1       50  Self-emp-not-inc  Bachelors             13  Married-civ-spouse   \n",
       " 2       38           Private    HS-grad              9            Divorced   \n",
       " 3       53           Private       11th              7  Married-civ-spouse   \n",
       " 4       28           Private  Bachelors             13  Married-civ-spouse   \n",
       " ...    ...               ...        ...            ...                 ...   \n",
       " 48837   39           Private  Bachelors             13            Divorced   \n",
       " 48838   64                 ?    HS-grad              9             Widowed   \n",
       " 48839   38           Private  Bachelors             13  Married-civ-spouse   \n",
       " 48840   44           Private  Bachelors             13            Divorced   \n",
       " 48841   35      Self-emp-inc  Bachelors             13  Married-civ-spouse   \n",
       " \n",
       "               occupation    relationship                race     sex  \\\n",
       " 0           Adm-clerical   Not-in-family               White    Male   \n",
       " 1        Exec-managerial         Husband               White    Male   \n",
       " 2      Handlers-cleaners   Not-in-family               White    Male   \n",
       " 3      Handlers-cleaners         Husband               Black    Male   \n",
       " 4         Prof-specialty            Wife               Black  Female   \n",
       " ...                  ...             ...                 ...     ...   \n",
       " 48837     Prof-specialty   Not-in-family               White  Female   \n",
       " 48838                  ?  Other-relative               Black    Male   \n",
       " 48839     Prof-specialty         Husband               White    Male   \n",
       " 48840       Adm-clerical       Own-child  Asian-Pac-Islander    Male   \n",
       " 48841    Exec-managerial         Husband               White    Male   \n",
       " \n",
       "        capital_gain  capital_loss  hours_per_week native_country  \n",
       " 0              2174             0              40  United-States  \n",
       " 1                 0             0              13  United-States  \n",
       " 2                 0             0              40  United-States  \n",
       " 3                 0             0              40  United-States  \n",
       " 4                 0             0              40           Cuba  \n",
       " ...             ...           ...             ...            ...  \n",
       " 48837             0             0              36  United-States  \n",
       " 48838             0             0              40  United-States  \n",
       " 48839             0             0              50  United-States  \n",
       " 48840          5455             0              40  United-States  \n",
       " 48841             0             0              60  United-States  \n",
       " \n",
       " [48842 rows x 13 columns],\n",
       " 'data_size_mb': 4.8442535400390625,\n",
       " 'row_num': 48842,\n",
       " 'col_num': 13,\n",
       " 'columns': OrderedDict([('age',\n",
       "               Column(age, type=int64, vocab size=74, min=17, max=90, has NaN=False)),\n",
       "              ('workclass',\n",
       "               Column(workclass, type=category, vocab size=9, min=?, max=Without-pay, has NaN=False)),\n",
       "              ('education',\n",
       "               Column(education, type=category, vocab size=16, min=10th, max=Some-college, has NaN=False)),\n",
       "              ('education_num',\n",
       "               Column(education_num, type=int64, vocab size=16, min=1, max=16, has NaN=False)),\n",
       "              ('marital_status',\n",
       "               Column(marital_status, type=category, vocab size=7, min=Divorced, max=Widowed, has NaN=False)),\n",
       "              ('occupation',\n",
       "               Column(occupation, type=category, vocab size=15, min=?, max=Transport-moving, has NaN=False)),\n",
       "              ('relationship',\n",
       "               Column(relationship, type=category, vocab size=6, min=Husband, max=Wife, has NaN=False)),\n",
       "              ('race',\n",
       "               Column(race, type=category, vocab size=5, min=Amer-Indian-Eskimo, max=White, has NaN=False)),\n",
       "              ('sex',\n",
       "               Column(sex, type=category, vocab size=2, min=Female, max=Male, has NaN=False)),\n",
       "              ('capital_gain',\n",
       "               Column(capital_gain, type=int64, vocab size=123, min=0, max=99999, has NaN=False)),\n",
       "              ('capital_loss',\n",
       "               Column(capital_loss, type=int64, vocab size=99, min=0, max=4356, has NaN=False)),\n",
       "              ('hours_per_week',\n",
       "               Column(hours_per_week, type=int64, vocab size=96, min=1, max=99, has NaN=False)),\n",
       "              ('native_country',\n",
       "               Column(native_country, type=category, vocab size=42, min=?, max=Yugoslavia, has NaN=False))])}"
      ]
     },
     "execution_count": 13,
     "metadata": {},
     "output_type": "execute_result"
    }
   ],
   "source": [
    "vars(data)"
   ]
  }
 ],
 "metadata": {
  "kernelspec": {
   "display_name": "AreCELearnedYet",
   "language": "python",
   "name": "python3"
  },
  "language_info": {
   "codemirror_mode": {
    "name": "ipython",
    "version": 3
   },
   "file_extension": ".py",
   "mimetype": "text/x-python",
   "name": "python",
   "nbconvert_exporter": "python",
   "pygments_lexer": "ipython3",
   "version": "3.8.12"
  }
 },
 "nbformat": 4,
 "nbformat_minor": 2
}
