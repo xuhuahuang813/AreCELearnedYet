{
 "cells": [
  {
   "cell_type": "code",
   "execution_count": 9,
   "metadata": {},
   "outputs": [
    {
     "data": {
      "text/plain": [
       "'\\ntrain-lstm dataset=\\'census13\\' version=\\'original\\' workload=\\'lstm-small\\' hid_units=\\'64\\' bins=\\'200\\' train_num=\\'10000\\' bs=\\'32\\' sizelimit=\\'0\\' seed=\\'123\\':\\n    poetry run python -m lecarb train -s{{seed}} -d{{dataset}} -v{{version}} -w{{workload}} -elstm --params         \"{\\'epochs\\': 500, \\'bins\\': {{bins}}, \\'hid_units\\': \\'{{hid_units}}\\', \\'train_num\\': {{train_num}}, \\'bs\\': {{bs}}}\" --sizelimit {{sizelimit}}\\n'"
      ]
     },
     "execution_count": 9,
     "metadata": {},
     "output_type": "execute_result"
    }
   ],
   "source": [
    "from lecarb.dataset.dataset import load_table\n",
    "from lecarb.estimator.lstm.common import load_lstm_dataset\n",
    "import torch\n",
    "import torch.nn as nn\n",
    "import torch.optim as optim\n",
    "from torch.utils.data import Dataset, DataLoader\n",
    "import time\n",
    "import logging\n",
    "L = logging.getLogger(__name__)\n",
    "'''\n",
    "train-lstm dataset='census13' version='original' workload='lstm-small' hid_units='64' bins='200' train_num='10000' bs='32' sizelimit='0' seed='123':\n",
    "    poetry run python -m lecarb train -s{{seed}} -d{{dataset}} -v{{version}} -w{{workload}} -elstm --params \\\n",
    "        \"{'epochs': 500, 'bins': {{bins}}, 'hid_units': '{{hid_units}}', 'train_num': {{train_num}}, 'bs': {{bs}}}\" --sizelimit {{sizelimit}}\n",
    "'''"
   ]
  },
  {
   "cell_type": "code",
   "execution_count": 10,
   "metadata": {},
   "outputs": [
    {
     "name": "stderr",
     "output_type": "stream",
     "text": [
      "[2024-02-20 15:16:33,969 INFO] lecarb.dataset.dataset: start building data census13_original...\n"
     ]
    },
    {
     "name": "stderr",
     "output_type": "stream",
     "text": [
      "[2024-02-20 15:16:34,233 INFO] lecarb.dataset.dataset: build finished: Table census13_original (48842 rows, 4.84MB, columns:\n",
      "Column(age, type=int64, vocab size=74, min=17, max=90, has NaN=False)\n",
      "Column(workclass, type=category, vocab size=9, min=?, max=Without-pay, has NaN=False)\n",
      "Column(education, type=category, vocab size=16, min=10th, max=Some-college, has NaN=False)\n",
      "Column(education_num, type=int64, vocab size=16, min=1, max=16, has NaN=False)\n",
      "Column(marital_status, type=category, vocab size=7, min=Divorced, max=Widowed, has NaN=False)\n",
      "Column(occupation, type=category, vocab size=15, min=?, max=Transport-moving, has NaN=False)\n",
      "Column(relationship, type=category, vocab size=6, min=Husband, max=Wife, has NaN=False)\n",
      "Column(race, type=category, vocab size=5, min=Amer-Indian-Eskimo, max=White, has NaN=False)\n",
      "Column(sex, type=category, vocab size=2, min=Female, max=Male, has NaN=False)\n",
      "Column(capital_gain, type=int64, vocab size=123, min=0, max=99999, has NaN=False)\n",
      "Column(capital_loss, type=int64, vocab size=99, min=0, max=4356, has NaN=False)\n",
      "Column(hours_per_week, type=int64, vocab size=96, min=1, max=99, has NaN=False)\n",
      "Column(native_country, type=category, vocab size=42, min=?, max=Yugoslavia, has NaN=False))\n",
      "[2024-02-20 15:16:34,233 INFO] lecarb.dataset.dataset: dump table to disk...\n",
      "[2024-02-20 15:16:34,242 INFO] lecarb.estimator.lstm.common: features already built in file data/census13/lstm/original_lstm-small_200_123.pkl\n"
     ]
    }
   ],
   "source": [
    "# 加载数据集，将csv文件转为Table类\n",
    "table = load_table(\"census13\", \"original\")\n",
    "\n",
    "dataset = load_lstm_dataset(table, \"lstm-small\", \"123\", \"200\")"
   ]
  },
  {
   "cell_type": "code",
   "execution_count": 11,
   "metadata": {},
   "outputs": [],
   "source": [
    "class TextDataset(Dataset):\n",
    "    def __init__(self, texts, labels, truecards):\n",
    "        self.texts = texts\n",
    "        self.labels = labels\n",
    "        self.truecards = truecards\n",
    "\n",
    "    def __len__(self):\n",
    "        return len(self.texts)\n",
    "\n",
    "    def __getitem__(self, idx):\n",
    "        # text_sequence = self.texts[idx]\n",
    "        # text_tensor = torch.FloatTensor([item.numpy() for item in text_sequence])\n",
    "        # label_item = self.labels[idx].item() if torch.is_tensor(self.labels[idx]) else self.labels[idx]\n",
    "        # truecard_item = self.truecards[idx].item() if torch.is_tensor(self.truecards[idx]) else self.truecards[idx]\n",
    "        # return text_tensor, label_item, truecard_item\n",
    "        return self.texts[idx], self.labels[idx], self.truecards[idx]\n",
    "    \n",
    "def make_dataset(dataset, num=-1):\n",
    "    X, y, gt = dataset\n",
    "    # 将list转为tenser\n",
    "    X = torch.tensor(X).view(num, 50, 11)\n",
    "    y = torch.tensor(y)\n",
    "    gt = torch.tensor(gt).view(num, 50)\n",
    "    L.info(f\"{X.shape}, {y.shape}, {gt.shape}\")\n",
    "    if num <= 0:\n",
    "        return TextDataset(X, y, gt)\n",
    "    else:\n",
    "        return TextDataset(X[:num], y[:num], gt[:num])"
   ]
  },
  {
   "cell_type": "code",
   "execution_count": 12,
   "metadata": {},
   "outputs": [],
   "source": [
    "train_dataset = make_dataset(dataset['train'], 1000)\n",
    "valid_dataset = make_dataset(dataset['valid'], 100)"
   ]
  },
  {
   "cell_type": "code",
   "execution_count": 13,
   "metadata": {},
   "outputs": [
    {
     "name": "stdout",
     "output_type": "stream",
     "text": [
      "Number of training samples: 1000\n",
      "Number of validation samples: 100\n"
     ]
    }
   ],
   "source": [
    "print(f\"Number of training samples: {len(train_dataset)}\")\n",
    "print(f\"Number of validation samples: {len(valid_dataset)}\")\n",
    "train_loader = DataLoader(train_dataset, batch_size=32)\n",
    "valid_loader = DataLoader(valid_dataset, batch_size=32)"
   ]
  },
  {
   "cell_type": "code",
   "execution_count": 14,
   "metadata": {},
   "outputs": [],
   "source": [
    "# 假设每个字是1x13维的向量\n",
    "input_dim = 11\n",
    "hidden_dim = 64\n",
    "output_dim = 10000  # 两类情感，你可以根据实际情况调整\n",
    "# 定义模型\n",
    "class TextSentimentModel(nn.Module):\n",
    "    def __init__(self):\n",
    "        super(TextSentimentModel, self).__init__()\n",
    "        self.rnn = nn.LSTM(input_size=input_dim, hidden_size=hidden_dim, batch_first=True)\n",
    "        self.fc = nn.Linear(hidden_dim, output_dim)\n",
    "\n",
    "    def forward(self, text):\n",
    "        # print(text.shape)\n",
    "        output, _ = self.rnn(text)\n",
    "        last_hidden_state = output[:, -1, :]\n",
    "        sentiment_logits = self.fc(last_hidden_state)\n",
    "        return sentiment_logits\n"
   ]
  },
  {
   "cell_type": "code",
   "execution_count": 15,
   "metadata": {},
   "outputs": [],
   "source": [
    "DEVICE = 'cuda' if torch.cuda.is_available() else 'cpu'\n",
    "\n",
    "model = TextSentimentModel().to(DEVICE)\n",
    "criterion = nn.BCEWithLogitsLoss()\n",
    "optimizer = optim.Adam(model.parameters(), lr=0.01)"
   ]
  },
  {
   "cell_type": "code",
   "execution_count": 16,
   "metadata": {},
   "outputs": [
    {
     "name": "stdout",
     "output_type": "stream",
     "text": [
      "Epoch 1, loss: 0.4665753049775958, time since start: 0.0 mins\n",
      "Test on valid set...\n",
      "Validation Loss: 0.42920874804258347\n",
      "best valid loss for now!\n",
      "Epoch 2, loss: 0.4350220048800111, time since start: 0.0 mins\n",
      "Test on valid set...\n",
      "Validation Loss: 0.40008002519607544\n",
      "best valid loss for now!\n",
      "Epoch 3, loss: 0.4144223863258958, time since start: 0.0 mins\n",
      "Test on valid set...\n",
      "Validation Loss: 0.4160211980342865\n",
      "Epoch 4, loss: 0.3797496873885393, time since start: 0.0 mins\n",
      "Test on valid set...\n",
      "Validation Loss: 0.33823613077402115\n",
      "best valid loss for now!\n",
      "Epoch 5, loss: 0.38133747410029173, time since start: 0.0 mins\n",
      "Test on valid set...\n",
      "Validation Loss: 0.4453503042459488\n",
      "Epoch 6, loss: 0.403705476783216, time since start: 0.0 mins\n",
      "Test on valid set...\n",
      "Validation Loss: 0.39526713639497757\n",
      "Epoch 7, loss: 0.36968201119452715, time since start: 0.0 mins\n",
      "Test on valid set...\n",
      "Validation Loss: 0.3403623700141907\n",
      "Epoch 8, loss: 0.38391980063170195, time since start: 0.0 mins\n",
      "Test on valid set...\n",
      "Validation Loss: 0.36819346994161606\n",
      "Epoch 9, loss: 0.359353506937623, time since start: 0.0 mins\n",
      "Test on valid set...\n",
      "Validation Loss: 0.3400242477655411\n",
      "Epoch 10, loss: 0.3454766171053052, time since start: 0.0 mins\n",
      "Test on valid set...\n",
      "Validation Loss: 0.3283480107784271\n",
      "best valid loss for now!\n"
     ]
    }
   ],
   "source": [
    "num_epochs = 10\n",
    "best_valid_loss = 3.0\n",
    "\n",
    "start_stmp = time.time()\n",
    "for epoch in range(num_epochs):\n",
    "    train_losses = []\n",
    "    model.train()\n",
    "    for _, data in enumerate(train_loader):\n",
    "        inputs, labels, truecards = data\n",
    "        inputs = inputs.to(DEVICE).float()\n",
    "        labels = labels.to(DEVICE).float()\n",
    "        \n",
    "        optimizer.zero_grad()\n",
    "        preds = model(inputs)\n",
    "        loss = criterion(preds, labels)\n",
    "        loss.backward()\n",
    "        optimizer.step()\n",
    "        \n",
    "        train_losses.append(loss.item())  # 将损失值添加到列表中\n",
    "    avg_train_loss = sum(train_losses) / len(train_losses)  # 计算平均损失\n",
    "    dur_min = (time.time() - start_stmp) / 60\n",
    "    print(f\"Epoch {epoch+1}, loss: {avg_train_loss}, time since start: {dur_min:.1f} mins\")\n",
    "    \n",
    "    print(f\"Test on valid set...\")\n",
    "    valid_stmp = time.time()\n",
    "    model.eval()\n",
    "    val_losses = []\n",
    "    for _, data in enumerate(valid_loader):\n",
    "        inputs, labels, truecards = data\n",
    "        inputs = inputs.to(DEVICE).float()\n",
    "        labels = labels.to(DEVICE).float()\n",
    "        \n",
    "        with torch.no_grad():\n",
    "            preds = model(inputs)\n",
    "            val_loss = criterion(preds, labels)\n",
    "            val_losses.append(val_loss.item())\n",
    "\n",
    "    avg_val_loss = sum(val_losses) / len(val_losses)\n",
    "    print(f\"Validation Loss: {avg_val_loss}\")\n",
    "    \n",
    "    if avg_val_loss < best_valid_loss:\n",
    "        print('best valid loss for now!')\n",
    "        best_valid_loss = avg_val_loss\n",
    "        "
   ]
  },
  {
   "cell_type": "code",
   "execution_count": null,
   "metadata": {},
   "outputs": [],
   "source": []
  }
 ],
 "metadata": {
  "kernelspec": {
   "display_name": "AreCELearnedYet",
   "language": "python",
   "name": "python3"
  },
  "language_info": {
   "codemirror_mode": {
    "name": "ipython",
    "version": 3
   },
   "file_extension": ".py",
   "mimetype": "text/x-python",
   "name": "python",
   "nbconvert_exporter": "python",
   "pygments_lexer": "ipython3",
   "version": "3.8.12"
  }
 },
 "nbformat": 4,
 "nbformat_minor": 2
}
