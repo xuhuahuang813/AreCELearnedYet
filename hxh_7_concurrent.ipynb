{
 "cells": [
  {
   "cell_type": "code",
   "execution_count": null,
   "metadata": {},
   "outputs": [],
   "source": [
    "import concurrent.futures\n",
    "from tqdm import tqdm\n",
    "\n",
    "def process_iteration(qerr_i, latest_in, latest_tc, coll, pred_cumulate):\n",
    "    # Your existing loop body here\n",
    "\n",
    "# Your existing function definition here\n",
    "\n",
    "def decodePreds_parallel(inputs, preds, truecards, collist):\n",
    "    global global_table \n",
    "    global global_cols_alldomain \n",
    "    \n",
    "    latest_inputs = inputs[:, -1, :]\n",
    "    latest_truecards = truecards[:, -1]\n",
    "    \n",
    "    total_iterations = len(latest_inputs)\n",
    "    q_error_list = []\n",
    "\n",
    "    with concurrent.futures.ThreadPoolExecutor() as executor:\n",
    "        # Use ThreadPoolExecutor for CPU-bound tasks; for IO-bound tasks, consider ProcessPoolExecutor\n",
    "        futures = {executor.submit(process_iteration, qerr_i, latest_in, latest_tc, coll, pred_cumulate):\n",
    "                   (qerr_i, latest_in, latest_tc, coll, pred_cumulate) for qerr_i, (latest_in, latest_tc, coll, pred_cumulate)\n",
    "                   in enumerate(zip(latest_inputs, latest_truecards, collist, preds))}\n",
    "        \n",
    "        for future in tqdm(concurrent.futures.as_completed(futures), total=total_iterations, desc=\"Processing\"):\n",
    "            try:\n",
    "                q_error_list.append(future.result())\n",
    "            except Exception as e:\n",
    "                print(f\"An error occurred: {e}\")\n",
    "                \n",
    "    return q_error_list\n"
   ]
  },
  {
   "cell_type": "code",
   "execution_count": null,
   "metadata": {},
   "outputs": [],
   "source": [
    "def decodePreds(inputs, preds, truecards, collist):\n",
    "    global global_table \n",
    "    global global_cols_alldomain \n",
    "    \n",
    "    latest_inputs = inputs[:, -1, :].to('cpu') # 获取最新的查询。latest_inputs获取最外层32个[50, 11]维数组中，每个50个11维数组的最后一个11维数组。latest_inputs[32, 11]\n",
    "    latest_truecards = truecards[:, -1].to('cpu') # 获取最新的truecards\n",
    "    preds = preds.to('cpu') \n",
    "    \n",
    "    # limit_q_error_num = 3\n",
    "    q_error_list = []\n",
    "    total_iterations = len(latest_inputs) # 总计算数量，用于tqdm进度展示\n",
    "    for q_error_i, (latest_in, latest_tc, coll, pred_cumulate) in tqdm(enumerate(zip(latest_inputs, latest_truecards, collist, preds)), total=total_iterations, desc=\"Processing\"):\n",
    "        \n",
    "        # TODO 为了加速计算，每一个iteration只算limit_q_error_num个query的q-error\n",
    "        # if q_error_i >= limit_q_error_num:\n",
    "        #     break\n",
    "        # TODO 为了加速计算所以continue\n",
    "        if \"capital_loss\" in coll:\n",
    "            continue\n",
    "        \n",
    "        # L.info(f\"{coll}\")\n",
    "        coll_list = coll.split(\"/\") # coll 'age/capital_loss'\n",
    "        col_df = global_cols_alldomain[coll] # col_df是coll(age/capital_loss')对应的联合域信息\n",
    "        \n",
    "        domain_list = [] # 存储所有满足query谓词的联合域的域位置。即10000维数组中满足query的index。\n",
    "        for _, row in col_df.iterrows():\n",
    "            row_in_domain = True\n",
    "            for coll_list_index in range(len(coll_list)):\n",
    "                if(row[coll_list[coll_list_index]] < latest_in[(coll_list_index + 1) *2 - 1] or row[coll_list[coll_list_index]] > latest_in[(coll_list_index + 1)*2]):\n",
    "                    row_in_domain = False\n",
    "                if row_in_domain == False:\n",
    "                    break\n",
    "            if row_in_domain == True:\n",
    "                domain_list.append(row[\"index_alldomain\"])\n",
    "            \n",
    "        pred = [pred_cumulate[i] - pred_cumulate[i-1] if i > 0 else pred_cumulate[i] for i in range(len(pred_cumulate))] # pred_cumulate是累计概率。pred是当前分位点的概率。\n",
    "        domain_list_sum = np.sum([pred[int(i)] for i in domain_list]) # domain_list上所有分位点概率和\n",
    "        estimate_card = domain_list_sum * global_table.row_num # 预估的基数\n",
    "        q_error = Q_error(estimate_card, latest_tc) # 计算q_error\n",
    "        # L.info(type(q_error))\n",
    "        # L.info(f\"estimate {estimate_card}; true {latest_tc}; q-error {q_error}\")\n",
    "        q_error_list.append(q_error)           \n",
    "    return q_error_list"
   ]
  },
  {
   "cell_type": "code",
   "execution_count": null,
   "metadata": {},
   "outputs": [],
   "source": [
    "import matplotlib.pyplot as plt\n",
    "import numpy as np\n",
    "\n",
    "# 其他部分代码...\n",
    "\n",
    "# 创建子图\n",
    "fig, ax1 = plt.subplots()\n",
    "\n",
    "# 绘制训练损失和验证损失曲线\n",
    "ax1.plot(train_avgloss_epoch_list, label='Training Loss', color='blue')\n",
    "ax1.plot(valid_avgloss_epoch_list, label='Validation Loss', color='red')\n",
    "ax1.set_xlabel('Epoch')\n",
    "ax1.set_ylabel('Loss', color='black')\n",
    "ax1.tick_params(axis='y', labelcolor='black')\n",
    "ax1.legend(loc='upper left')\n",
    "\n",
    "# 创建第二个y轴，用于绘制箱型图\n",
    "ax2 = ax1.twinx()\n",
    "\n",
    "# 生成随机的示例数据，因为我不知道你的 valid_qerror_list 数据结构\n",
    "# 请替换这里的随机数据为你的实际数据\n",
    "valid_qerror_list = [np.random.normal(0, 1, size=50) for _ in range(len(valid_avgloss_epoch_list))]\n",
    "\n",
    "# 绘制箱型图\n",
    "ax2.boxplot(valid_qerror_list, positions=np.arange(1, len(valid_avgloss_epoch_list) * 10 + 1, 10), vert=False)\n",
    "ax2.set_ylabel('Validation QError', color='green')\n",
    "ax2.tick_params(axis='y', labelcolor='green')\n",
    "ax2.set_yticklabels([])  # 隐藏y轴标签\n",
    "ax2.legend(loc='upper right')\n",
    "\n",
    "# 设置标题\n",
    "plt.title('Training Loss, Validation Loss, and Validation QError Over Epochs')\n",
    "\n",
    "# 保存图像\n",
    "plt.savefig(train_fig_file)\n",
    "\n",
    "# 显示图形\n",
    "plt.show()\n"
   ]
  },
  {
   "cell_type": "code",
   "execution_count": 7,
   "metadata": {},
   "outputs": [
    {
     "data": {
      "text/plain": [
       "[10]"
      ]
     },
     "execution_count": 7,
     "metadata": {},
     "output_type": "execute_result"
    }
   ],
   "source": [
    "import numpy as np\n",
    "chsdoi = [32, 2323]\n",
    "lis = [i * 10 for i in range(1, len(chsdoi))]\n",
    "lis"
   ]
  },
  {
   "cell_type": "code",
   "execution_count": 8,
   "metadata": {},
   "outputs": [
    {
     "data": {
      "text/plain": [
       "[1, 10]"
      ]
     },
     "execution_count": 8,
     "metadata": {},
     "output_type": "execute_result"
    }
   ],
   "source": [
    "lis = [1] + lis\n",
    "lis"
   ]
  },
  {
   "cell_type": "code",
   "execution_count": 18,
   "metadata": {},
   "outputs": [
    {
     "name": "stderr",
     "output_type": "stream",
     "text": [
      "No artists with labels found to put in legend.  Note that artists whose label start with an underscore are ignored when legend() is called with no argument.\n"
     ]
    },
    {
     "data": {
      "text/plain": [
       "<function matplotlib.pyplot.show(close=None, block=None)>"
      ]
     },
     "execution_count": 18,
     "metadata": {},
     "output_type": "execute_result"
    },
    {
     "data": {
      "image/png": "[encoded data removed]",
      "text/plain": [
       "<Figure size 432x288 with 2 Axes>"
      ]
     },
     "metadata": {
      "needs_background": "light"
     },
     "output_type": "display_data"
    }
   ],
   "source": [
    "import matplotlib.pyplot as plt\n",
    "import random\n",
    "\n",
    "train_avgloss_epoch_list = [random.randint(1, 100) for _ in range(10)]\n",
    "valid_avgloss_epoch_list = [random.randint(1, 100) for _ in range(10)]\n",
    "valid_qerror_epoch_list = [[random.randint(1, 100) for _ in range(8)] +[1000], [random.randint(1, 100) for _ in range(10)]]\n",
    "fig, ax1 = plt.subplots()\n",
    "ax1.plot(train_avgloss_epoch_list, label='Training Loss', color='blue')\n",
    "ax1.plot(valid_avgloss_epoch_list, label='Validation Loss', color='red')\n",
    "ax1.set_xlabel('Epoch')\n",
    "ax1.set_ylabel('Loss', color='black')\n",
    "ax1.tick_params(axis='y', labelcolor='black')\n",
    "ax1.legend(loc='upper left') # 在左轴上添加图例\n",
    "\n",
    "ax2 = ax1.twinx() # 在同一个图表上创建一个新的y轴，与原始的y轴（ax1）共享x轴。\n",
    "# ax2.plot(valid_avgqerror_epoch_list, label='Validation QError', color='green')\n",
    "ax2.boxplot(valid_qerror_epoch_list, positions=[1]+[i * 10 for i in range(1, len(valid_qerror_epoch_list))], sym='+', vert=True)\n",
    "ax2.set_ylabel('Validation QError', color='green')\n",
    "ax2.tick_params(axis='y', labelcolor='green')\n",
    "# ax2.set_yticklabels([])  # 隐藏y轴标签\n",
    "ax2.legend(loc='upper right')\n",
    "ax2.set_ylim(10**0, 10**4)  # 设置右轴的纵轴范围\n",
    "ax2.set_yscale('log')\n",
    "\n",
    "plt.title('Training Loss, Validation Loss, and Validation QError Over Epochs')\n",
    "plt.show"
   ]
  }
 ],
 "metadata": {
  "kernelspec": {
   "display_name": "AreCELearnedYet",
   "language": "python",
   "name": "python3"
  },
  "language_info": {
   "codemirror_mode": {
    "name": "ipython",
    "version": 3
   },
   "file_extension": ".py",
   "mimetype": "text/x-python",
   "name": "python",
   "nbconvert_exporter": "python",
   "pygments_lexer": "ipython3",
   "version": "3.8.12"
  }
 },
 "nbformat": 4,
 "nbformat_minor": 2
}
