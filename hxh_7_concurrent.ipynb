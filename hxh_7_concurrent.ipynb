{
 "cells": [
  {
   "cell_type": "code",
   "execution_count": null,
   "metadata": {},
   "outputs": [],
   "source": [
    "import concurrent.futures\n",
    "from tqdm import tqdm\n",
    "\n",
    "def process_iteration(qerr_i, latest_in, latest_tc, coll, pred_cumulate):\n",
    "    # Your existing loop body here\n",
    "\n",
    "# Your existing function definition here\n",
    "\n",
    "def decodePreds_parallel(inputs, preds, truecards, collist):\n",
    "    global global_table \n",
    "    global global_cols_alldomain \n",
    "    \n",
    "    latest_inputs = inputs[:, -1, :]\n",
    "    latest_truecards = truecards[:, -1]\n",
    "    \n",
    "    total_iterations = len(latest_inputs)\n",
    "    q_error_list = []\n",
    "\n",
    "    with concurrent.futures.ThreadPoolExecutor() as executor:\n",
    "        # Use ThreadPoolExecutor for CPU-bound tasks; for IO-bound tasks, consider ProcessPoolExecutor\n",
    "        futures = {executor.submit(process_iteration, qerr_i, latest_in, latest_tc, coll, pred_cumulate):\n",
    "                   (qerr_i, latest_in, latest_tc, coll, pred_cumulate) for qerr_i, (latest_in, latest_tc, coll, pred_cumulate)\n",
    "                   in enumerate(zip(latest_inputs, latest_truecards, collist, preds))}\n",
    "        \n",
    "        for future in tqdm(concurrent.futures.as_completed(futures), total=total_iterations, desc=\"Processing\"):\n",
    "            try:\n",
    "                q_error_list.append(future.result())\n",
    "            except Exception as e:\n",
    "                print(f\"An error occurred: {e}\")\n",
    "                \n",
    "    return q_error_list\n"
   ]
  }
 ],
 "metadata": {
  "kernelspec": {
   "display_name": "AreCELearnedYet",
   "language": "python",
   "name": "python3"
  },
  "language_info": {
   "name": "python",
   "version": "3.8.12"
  }
 },
 "nbformat": 4,
 "nbformat_minor": 2
}
