{
 "cells": [
  {
   "cell_type": "code",
   "execution_count": 3,
   "metadata": {},
   "outputs": [],
   "source": [
    "import time\n",
    "import psycopg2\n",
    "import logging\n",
    "# from typing import Any, Dict\n",
    "\n",
    "# from .estimator import Estimator\n",
    "# from .utils import run_test\n",
    "# from ..workload.workload import query_2_sql\n",
    "# from ..dataset.dataset import load_table\n",
    "# from ..constants import DATABASE_URL"
   ]
  },
  {
   "cell_type": "code",
   "execution_count": 4,
   "metadata": {},
   "outputs": [],
   "source": [
    "conn = psycopg2.connect(\"postgres://dase209@49.52.27.35:5432/card\")\n",
    "conn.autocommit = True\n",
    "cursor = conn.cursor()\n",
    "\n",
    "# get size 表的统计信息在数据库中占用的存储空间。单位是byte。\n",
    "cursor.execute('select sum(pg_column_size(pg_stats)) from pg_stats where tablename=\\'census13_original\\'')"
   ]
  },
  {
   "cell_type": "code",
   "execution_count": 5,
   "metadata": {},
   "outputs": [
    {
     "data": {
      "text/plain": [
       "[(8912,)]"
      ]
     },
     "execution_count": 5,
     "metadata": {},
     "output_type": "execute_result"
    }
   ],
   "source": [
    "cursor.fetchall()"
   ]
  },
  {
   "cell_type": "code",
   "execution_count": null,
   "metadata": {},
   "outputs": [],
   "source": [
    "size = cursor.fetchall()[0][0]\n",
    "#  cursor.execute('select sum(pg_column_size(pg_stats_ext)) from pg_stats_ext where tablename=\\'{}\\''.format(table.name))\n",
    "#  res = cursor.fetchall()[0][0]\n",
    "# might not have content in ext table\n",
    "#  if res is not None:\n",
    "#      size += res\n",
    "size = size / 1024 / 1024 # MB"
   ]
  }
 ],
 "metadata": {
  "kernelspec": {
   "display_name": "AreCELearnedYet",
   "language": "python",
   "name": "python3"
  },
  "language_info": {
   "codemirror_mode": {
    "name": "ipython",
    "version": 3
   },
   "file_extension": ".py",
   "mimetype": "text/x-python",
   "name": "python",
   "nbconvert_exporter": "python",
   "pygments_lexer": "ipython3",
   "version": "3.8.12"
  }
 },
 "nbformat": 4,
 "nbformat_minor": 2
}
